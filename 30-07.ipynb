{
 "cells": [
  {
   "cell_type": "code",
   "execution_count": 1,
   "id": "5a2da61d",
   "metadata": {},
   "outputs": [],
   "source": [
    "t=(3,4,5,6,7,8)"
   ]
  },
  {
   "cell_type": "code",
   "execution_count": 2,
   "id": "bb1d917d",
   "metadata": {},
   "outputs": [
    {
     "data": {
      "text/plain": [
       "tuple"
      ]
     },
     "execution_count": 2,
     "metadata": {},
     "output_type": "execute_result"
    }
   ],
   "source": [
    "type(t)"
   ]
  },
  {
   "cell_type": "code",
   "execution_count": 3,
   "id": "786f92f3",
   "metadata": {},
   "outputs": [],
   "source": [
    "t1=(3,8,16,19,24,67)"
   ]
  },
  {
   "cell_type": "code",
   "execution_count": 4,
   "id": "723891f7",
   "metadata": {},
   "outputs": [
    {
     "data": {
      "text/plain": [
       "tuple"
      ]
     },
     "execution_count": 4,
     "metadata": {},
     "output_type": "execute_result"
    }
   ],
   "source": [
    "type(t1)"
   ]
  },
  {
   "cell_type": "code",
   "execution_count": 5,
   "id": "8ed3febb",
   "metadata": {},
   "outputs": [
    {
     "data": {
      "text/plain": [
       "(3, 4, 5, 6, 7, 8, 3, 8, 16, 19, 24, 67)"
      ]
     },
     "execution_count": 5,
     "metadata": {},
     "output_type": "execute_result"
    }
   ],
   "source": [
    "t+t1"
   ]
  },
  {
   "cell_type": "code",
   "execution_count": 6,
   "id": "b2ff3453",
   "metadata": {},
   "outputs": [
    {
     "data": {
      "text/plain": [
       "3"
      ]
     },
     "execution_count": 6,
     "metadata": {},
     "output_type": "execute_result"
    }
   ],
   "source": [
    "3"
   ]
  },
  {
   "cell_type": "code",
   "execution_count": 7,
   "id": "cc51bc63",
   "metadata": {},
   "outputs": [
    {
     "data": {
      "text/plain": [
       "int"
      ]
     },
     "execution_count": 7,
     "metadata": {},
     "output_type": "execute_result"
    }
   ],
   "source": [
    "type(3)"
   ]
  },
  {
   "cell_type": "code",
   "execution_count": 8,
   "id": "0bdf9a55",
   "metadata": {},
   "outputs": [
    {
     "data": {
      "text/plain": [
       "3"
      ]
     },
     "execution_count": 8,
     "metadata": {},
     "output_type": "execute_result"
    }
   ],
   "source": [
    "(3)"
   ]
  },
  {
   "cell_type": "code",
   "execution_count": 10,
   "id": "f76dddc9",
   "metadata": {},
   "outputs": [
    {
     "data": {
      "text/plain": [
       "int"
      ]
     },
     "execution_count": 10,
     "metadata": {},
     "output_type": "execute_result"
    }
   ],
   "source": [
    "type((3))"
   ]
  },
  {
   "cell_type": "code",
   "execution_count": 12,
   "id": "f0236028",
   "metadata": {},
   "outputs": [],
   "source": [
    "l=[6,34,23,78,12,[34,56,89,10]]"
   ]
  },
  {
   "cell_type": "code",
   "execution_count": 13,
   "id": "68d90187",
   "metadata": {},
   "outputs": [
    {
     "data": {
      "text/plain": [
       "[6, 34, 23, 78, 12, [34, 56, 89, 10]]"
      ]
     },
     "execution_count": 13,
     "metadata": {},
     "output_type": "execute_result"
    }
   ],
   "source": [
    "l"
   ]
  },
  {
   "cell_type": "code",
   "execution_count": 18,
   "id": "5115add0",
   "metadata": {},
   "outputs": [
    {
     "data": {
      "text/plain": [
       "[34, 56, 89, 10]"
      ]
     },
     "execution_count": 18,
     "metadata": {},
     "output_type": "execute_result"
    }
   ],
   "source": [
    "l[5]"
   ]
  },
  {
   "cell_type": "code",
   "execution_count": 19,
   "id": "9bd9f6a5",
   "metadata": {},
   "outputs": [
    {
     "data": {
      "text/plain": [
       "89"
      ]
     },
     "execution_count": 19,
     "metadata": {},
     "output_type": "execute_result"
    }
   ],
   "source": [
    "l[5][2]"
   ]
  },
  {
   "cell_type": "code",
   "execution_count": 20,
   "id": "27aa83b4",
   "metadata": {},
   "outputs": [],
   "source": [
    "d={\"name\":\"Lahari\",\"Technology\":[\"python\",\"c\",\"Java\",\"ML\",\"DS\"]}"
   ]
  },
  {
   "cell_type": "code",
   "execution_count": 22,
   "id": "89180a42",
   "metadata": {},
   "outputs": [
    {
     "data": {
      "text/plain": [
       "'Lahari'"
      ]
     },
     "execution_count": 22,
     "metadata": {},
     "output_type": "execute_result"
    }
   ],
   "source": [
    "d[\"name\"]"
   ]
  },
  {
   "cell_type": "code",
   "execution_count": 23,
   "id": "adb1dde4",
   "metadata": {},
   "outputs": [
    {
     "data": {
      "text/plain": [
       "['python', 'c', 'Java', 'ML', 'DS']"
      ]
     },
     "execution_count": 23,
     "metadata": {},
     "output_type": "execute_result"
    }
   ],
   "source": [
    "d[\"Technology\"]"
   ]
  },
  {
   "cell_type": "code",
   "execution_count": 24,
   "id": "f71611ee",
   "metadata": {},
   "outputs": [
    {
     "data": {
      "text/plain": [
       "True"
      ]
     },
     "execution_count": 24,
     "metadata": {},
     "output_type": "execute_result"
    }
   ],
   "source": [
    "\"python\"in d[\"Technology\"]"
   ]
  },
  {
   "cell_type": "code",
   "execution_count": 25,
   "id": "417c60c7",
   "metadata": {},
   "outputs": [
    {
     "data": {
      "text/plain": [
       "dict_values(['Lahari', ['python', 'c', 'Java', 'ML', 'DS']])"
      ]
     },
     "execution_count": 25,
     "metadata": {},
     "output_type": "execute_result"
    }
   ],
   "source": [
    "d.values()"
   ]
  },
  {
   "cell_type": "code",
   "execution_count": 26,
   "id": "47ea49bd",
   "metadata": {},
   "outputs": [
    {
     "data": {
      "text/plain": [
       "dict_keys(['name', 'Technology'])"
      ]
     },
     "execution_count": 26,
     "metadata": {},
     "output_type": "execute_result"
    }
   ],
   "source": [
    "d.keys()"
   ]
  },
  {
   "cell_type": "code",
   "execution_count": 27,
   "id": "7b076ae0",
   "metadata": {},
   "outputs": [
    {
     "data": {
      "text/plain": [
       "dict_items([('name', 'Lahari'), ('Technology', ['python', 'c', 'Java', 'ML', 'DS'])])"
      ]
     },
     "execution_count": 27,
     "metadata": {},
     "output_type": "execute_result"
    }
   ],
   "source": [
    "d.items()"
   ]
  },
  {
   "cell_type": "code",
   "execution_count": 29,
   "id": "fe2df5a3",
   "metadata": {},
   "outputs": [
    {
     "data": {
      "text/plain": [
       "'Lahari'"
      ]
     },
     "execution_count": 29,
     "metadata": {},
     "output_type": "execute_result"
    }
   ],
   "source": [
    "d.pop(\"name\")"
   ]
  },
  {
   "cell_type": "code",
   "execution_count": 30,
   "id": "a1b16762",
   "metadata": {},
   "outputs": [
    {
     "data": {
      "text/plain": [
       "['python', 'c', 'Java', 'ML', 'DS']"
      ]
     },
     "execution_count": 30,
     "metadata": {},
     "output_type": "execute_result"
    }
   ],
   "source": [
    "d.pop(\"Technology\")"
   ]
  },
  {
   "cell_type": "code",
   "execution_count": 31,
   "id": "cecb5aff",
   "metadata": {},
   "outputs": [
    {
     "data": {
      "text/plain": [
       "{}"
      ]
     },
     "execution_count": 31,
     "metadata": {},
     "output_type": "execute_result"
    }
   ],
   "source": [
    "d"
   ]
  },
  {
   "cell_type": "code",
   "execution_count": 2,
   "id": "b7fc1154",
   "metadata": {},
   "outputs": [],
   "source": [
    "d={\"name\":\"Lahari\",\"Technology\":[\"python\",\"c\",\"Java\",\"ML\",\"DS\"]}"
   ]
  },
  {
   "cell_type": "code",
   "execution_count": 3,
   "id": "26201ce0",
   "metadata": {},
   "outputs": [
    {
     "data": {
      "text/plain": [
       "('Technology', ['python', 'c', 'Java', 'ML', 'DS'])"
      ]
     },
     "execution_count": 3,
     "metadata": {},
     "output_type": "execute_result"
    }
   ],
   "source": [
    "d.popitem()"
   ]
  },
  {
   "cell_type": "code",
   "execution_count": 4,
   "id": "e8bd0c59",
   "metadata": {},
   "outputs": [
    {
     "data": {
      "text/plain": [
       "'CSE'"
      ]
     },
     "execution_count": 4,
     "metadata": {},
     "output_type": "execute_result"
    }
   ],
   "source": [
    "d.setdefault(\"Branch\",\"CSE\")"
   ]
  },
  {
   "cell_type": "code",
   "execution_count": 5,
   "id": "659a0c1a",
   "metadata": {},
   "outputs": [
    {
     "data": {
      "text/plain": [
       "{'name': 'Lahari', 'Branch': 'CSE'}"
      ]
     },
     "execution_count": 5,
     "metadata": {},
     "output_type": "execute_result"
    }
   ],
   "source": [
    "d"
   ]
  },
  {
   "cell_type": "code",
   "execution_count": 6,
   "id": "29611fad",
   "metadata": {},
   "outputs": [],
   "source": [
    "d1={\"name\":\"Jayasree\",\"Class\":\"2nd year\",\"name\":\"Niharika\"}"
   ]
  },
  {
   "cell_type": "code",
   "execution_count": 7,
   "id": "b8b5dffc",
   "metadata": {},
   "outputs": [
    {
     "data": {
      "text/plain": [
       "{'name': 'Niharika', 'Class': '2nd year'}"
      ]
     },
     "execution_count": 7,
     "metadata": {},
     "output_type": "execute_result"
    }
   ],
   "source": [
    "d1"
   ]
  },
  {
   "cell_type": "code",
   "execution_count": 8,
   "id": "5aa2a603",
   "metadata": {},
   "outputs": [],
   "source": [
    "d1[\"name\"]=\"Sravya\""
   ]
  },
  {
   "cell_type": "code",
   "execution_count": 9,
   "id": "995861ef",
   "metadata": {},
   "outputs": [
    {
     "data": {
      "text/plain": [
       "{'name': 'Sravya', 'Class': '2nd year'}"
      ]
     },
     "execution_count": 9,
     "metadata": {},
     "output_type": "execute_result"
    }
   ],
   "source": [
    "d1"
   ]
  },
  {
   "cell_type": "code",
   "execution_count": 2,
   "id": "b0cca1fd",
   "metadata": {},
   "outputs": [],
   "source": [
    "d2={0:\"Bhavya\"}"
   ]
  },
  {
   "cell_type": "code",
   "execution_count": 3,
   "id": "d214a17c",
   "metadata": {},
   "outputs": [],
   "source": [
    "d2={_:\"Bhavya\"}"
   ]
  },
  {
   "cell_type": "code",
   "execution_count": 4,
   "id": "0ec40ccc",
   "metadata": {},
   "outputs": [
    {
     "data": {
      "text/plain": [
       "{'': 'Bhavya'}"
      ]
     },
     "execution_count": 4,
     "metadata": {},
     "output_type": "execute_result"
    }
   ],
   "source": [
    "d2"
   ]
  },
  {
   "cell_type": "markdown",
   "id": "0fca4912",
   "metadata": {},
   "source": [
    "SET"
   ]
  },
  {
   "cell_type": "code",
   "execution_count": 5,
   "id": "7908cbc9",
   "metadata": {},
   "outputs": [],
   "source": [
    "s={2,3,4,5,78,67,98,56}"
   ]
  },
  {
   "cell_type": "code",
   "execution_count": 6,
   "id": "9ed3da58",
   "metadata": {},
   "outputs": [
    {
     "data": {
      "text/plain": [
       "set"
      ]
     },
     "execution_count": 6,
     "metadata": {},
     "output_type": "execute_result"
    }
   ],
   "source": [
    "type(s)"
   ]
  },
  {
   "cell_type": "code",
   "execution_count": 7,
   "id": "e596891b",
   "metadata": {},
   "outputs": [],
   "source": [
    "s={2,3,4,5,5,56,7,8,8,8,8,9}"
   ]
  },
  {
   "cell_type": "code",
   "execution_count": 8,
   "id": "6b751354",
   "metadata": {},
   "outputs": [
    {
     "data": {
      "text/plain": [
       "{2, 3, 4, 5, 7, 8, 9, 56}"
      ]
     },
     "execution_count": 8,
     "metadata": {},
     "output_type": "execute_result"
    }
   ],
   "source": [
    "s"
   ]
  },
  {
   "cell_type": "code",
   "execution_count": 9,
   "id": "8f3837e3",
   "metadata": {},
   "outputs": [],
   "source": [
    "s1={12,23,17,89,12,45,\"Lahari\",\"Sravya\",\"Niharika\"}"
   ]
  },
  {
   "cell_type": "code",
   "execution_count": 10,
   "id": "dc3fe899",
   "metadata": {},
   "outputs": [
    {
     "data": {
      "text/plain": [
       "{12, 17, 23, 45, 89, 'Lahari', 'Niharika', 'Sravya'}"
      ]
     },
     "execution_count": 10,
     "metadata": {},
     "output_type": "execute_result"
    }
   ],
   "source": [
    "s1"
   ]
  },
  {
   "cell_type": "code",
   "execution_count": 22,
   "id": "994f3b40",
   "metadata": {},
   "outputs": [],
   "source": [
    "s2={788,455,122,566,677,\"p\",899,900,45}"
   ]
  },
  {
   "cell_type": "code",
   "execution_count": 28,
   "id": "5c3b391a",
   "metadata": {},
   "outputs": [
    {
     "data": {
      "text/plain": [
       "[899, 900, 677, 'p', 455, 45, 788, 566, 122]"
      ]
     },
     "execution_count": 28,
     "metadata": {},
     "output_type": "execute_result"
    }
   ],
   "source": [
    "s2"
   ]
  },
  {
   "cell_type": "code",
   "execution_count": 29,
   "id": "a6fbf6d9",
   "metadata": {},
   "outputs": [
    {
     "ename": "IndexError",
     "evalue": "list index out of range",
     "output_type": "error",
     "traceback": [
      "\u001b[1;31m---------------------------------------------------------------------------\u001b[0m",
      "\u001b[1;31mIndexError\u001b[0m                                Traceback (most recent call last)",
      "Input \u001b[1;32mIn [29]\u001b[0m, in \u001b[0;36m<cell line: 1>\u001b[1;34m()\u001b[0m\n\u001b[1;32m----> 1\u001b[0m \u001b[43ms2\u001b[49m\u001b[43m[\u001b[49m\u001b[38;5;241;43m9\u001b[39;49m\u001b[43m]\u001b[49m\n",
      "\u001b[1;31mIndexError\u001b[0m: list index out of range"
     ]
    }
   ],
   "source": [
    "s2[9]"
   ]
  },
  {
   "cell_type": "code",
   "execution_count": 30,
   "id": "bdd0c636",
   "metadata": {},
   "outputs": [],
   "source": [
    "s2=list(s2)"
   ]
  },
  {
   "cell_type": "code",
   "execution_count": 31,
   "id": "28346786",
   "metadata": {},
   "outputs": [
    {
     "data": {
      "text/plain": [
       "[899, 900, 677, 'p', 455, 45, 788, 566, 122]"
      ]
     },
     "execution_count": 31,
     "metadata": {},
     "output_type": "execute_result"
    }
   ],
   "source": [
    "s2"
   ]
  },
  {
   "cell_type": "code",
   "execution_count": 32,
   "id": "f291f303",
   "metadata": {},
   "outputs": [
    {
     "data": {
      "text/plain": [
       "788"
      ]
     },
     "execution_count": 32,
     "metadata": {},
     "output_type": "execute_result"
    }
   ],
   "source": [
    "s2[6]"
   ]
  },
  {
   "cell_type": "code",
   "execution_count": 41,
   "id": "5179290d",
   "metadata": {},
   "outputs": [
    {
     "ename": "TypeError",
     "evalue": "unhashable type: 'list'",
     "output_type": "error",
     "traceback": [
      "\u001b[1;31m---------------------------------------------------------------------------\u001b[0m",
      "\u001b[1;31mTypeError\u001b[0m                                 Traceback (most recent call last)",
      "Input \u001b[1;32mIn [41]\u001b[0m, in \u001b[0;36m<cell line: 1>\u001b[1;34m()\u001b[0m\n\u001b[1;32m----> 1\u001b[0m s3\u001b[38;5;241m=\u001b[39m{[\u001b[38;5;241m5\u001b[39m,\u001b[38;5;241m6\u001b[39m,\u001b[38;5;241m7\u001b[39m,\u001b[38;5;241m8\u001b[39m],\u001b[38;5;241m34\u001b[39m,\u001b[38;5;241m45\u001b[39m,\u001b[38;5;241m67\u001b[39m,\u001b[38;5;241m89\u001b[39m,\u001b[38;5;241m90\u001b[39m}\n",
      "\u001b[1;31mTypeError\u001b[0m: unhashable type: 'list'"
     ]
    }
   ],
   "source": [
    "s3={[5,6,7,8],34,45,67,89,90}"
   ]
  },
  {
   "cell_type": "code",
   "execution_count": 42,
   "id": "91ae6317",
   "metadata": {},
   "outputs": [],
   "source": [
    "s3={(1,2,3,4),34,45,56,67} #tuple is allowed as element inside set"
   ]
  },
  {
   "cell_type": "code",
   "execution_count": 43,
   "id": "90f0773f",
   "metadata": {},
   "outputs": [
    {
     "data": {
      "text/plain": [
       "{(1, 2, 3, 4), 34, 45, 56, 67}"
      ]
     },
     "execution_count": 43,
     "metadata": {},
     "output_type": "execute_result"
    }
   ],
   "source": [
    "s3"
   ]
  },
  {
   "cell_type": "markdown",
   "id": "95809831",
   "metadata": {},
   "source": [
    "immutable collection is allowed inside set as element"
   ]
  },
  {
   "cell_type": "code",
   "execution_count": 44,
   "id": "4823fd2d",
   "metadata": {},
   "outputs": [],
   "source": [
    "s3.discard(34)"
   ]
  },
  {
   "cell_type": "code",
   "execution_count": 45,
   "id": "59a0025d",
   "metadata": {},
   "outputs": [
    {
     "data": {
      "text/plain": [
       "{(1, 2, 3, 4), 45, 56, 67}"
      ]
     },
     "execution_count": 45,
     "metadata": {},
     "output_type": "execute_result"
    }
   ],
   "source": [
    "s3"
   ]
  },
  {
   "cell_type": "code",
   "execution_count": 46,
   "id": "cf323a93",
   "metadata": {},
   "outputs": [],
   "source": [
    "s3.remove(67)"
   ]
  },
  {
   "cell_type": "code",
   "execution_count": 47,
   "id": "763e9439",
   "metadata": {},
   "outputs": [
    {
     "data": {
      "text/plain": [
       "{(1, 2, 3, 4), 45, 56}"
      ]
     },
     "execution_count": 47,
     "metadata": {},
     "output_type": "execute_result"
    }
   ],
   "source": [
    "s3"
   ]
  },
  {
   "cell_type": "code",
   "execution_count": 48,
   "id": "5de5302e",
   "metadata": {},
   "outputs": [
    {
     "ename": "KeyError",
     "evalue": "0",
     "output_type": "error",
     "traceback": [
      "\u001b[1;31m---------------------------------------------------------------------------\u001b[0m",
      "\u001b[1;31mKeyError\u001b[0m                                  Traceback (most recent call last)",
      "Input \u001b[1;32mIn [48]\u001b[0m, in \u001b[0;36m<cell line: 1>\u001b[1;34m()\u001b[0m\n\u001b[1;32m----> 1\u001b[0m \u001b[43ms3\u001b[49m\u001b[38;5;241;43m.\u001b[39;49m\u001b[43mremove\u001b[49m\u001b[43m(\u001b[49m\u001b[38;5;241;43m0\u001b[39;49m\u001b[43m)\u001b[49m\n",
      "\u001b[1;31mKeyError\u001b[0m: 0"
     ]
    }
   ],
   "source": [
    "s3.remove(0)"
   ]
  },
  {
   "cell_type": "code",
   "execution_count": 49,
   "id": "2a8ea126",
   "metadata": {},
   "outputs": [],
   "source": [
    "s3.discard(0)"
   ]
  },
  {
   "cell_type": "code",
   "execution_count": 50,
   "id": "37779673",
   "metadata": {},
   "outputs": [
    {
     "data": {
      "text/plain": [
       "{(1, 2, 3, 4), 45, 56}"
      ]
     },
     "execution_count": 50,
     "metadata": {},
     "output_type": "execute_result"
    }
   ],
   "source": [
    "s3"
   ]
  },
  {
   "cell_type": "code",
   "execution_count": 51,
   "id": "68ab35b1",
   "metadata": {},
   "outputs": [],
   "source": [
    "s3.clear()"
   ]
  },
  {
   "cell_type": "code",
   "execution_count": 52,
   "id": "d5e62381",
   "metadata": {},
   "outputs": [
    {
     "data": {
      "text/plain": [
       "set()"
      ]
     },
     "execution_count": 52,
     "metadata": {},
     "output_type": "execute_result"
    }
   ],
   "source": [
    "s3"
   ]
  },
  {
   "cell_type": "code",
   "execution_count": 53,
   "id": "33eb3344",
   "metadata": {},
   "outputs": [
    {
     "data": {
      "text/plain": [
       "set()"
      ]
     },
     "execution_count": 53,
     "metadata": {},
     "output_type": "execute_result"
    }
   ],
   "source": [
    "s3"
   ]
  },
  {
   "cell_type": "code",
   "execution_count": 66,
   "id": "429cfa33",
   "metadata": {},
   "outputs": [
    {
     "data": {
      "text/plain": [
       "[899, 900, 677, 'p', 455, 45, 788]"
      ]
     },
     "execution_count": 66,
     "metadata": {},
     "output_type": "execute_result"
    }
   ],
   "source": [
    "s2"
   ]
  },
  {
   "cell_type": "code",
   "execution_count": 67,
   "id": "5615d9e6",
   "metadata": {},
   "outputs": [
    {
     "data": {
      "text/plain": [
       "{45, 455, 677, 788, 899, 900, 'p'}"
      ]
     },
     "execution_count": 67,
     "metadata": {},
     "output_type": "execute_result"
    }
   ],
   "source": [
    "set(s2)"
   ]
  },
  {
   "cell_type": "code",
   "execution_count": 68,
   "id": "d73f1cd8",
   "metadata": {},
   "outputs": [
    {
     "data": {
      "text/plain": [
       "1"
      ]
     },
     "execution_count": 68,
     "metadata": {},
     "output_type": "execute_result"
    }
   ],
   "source": [
    "s2.count(455)"
   ]
  },
  {
   "cell_type": "code",
   "execution_count": 69,
   "id": "d3825f07",
   "metadata": {},
   "outputs": [
    {
     "data": {
      "text/plain": [
       "788"
      ]
     },
     "execution_count": 69,
     "metadata": {},
     "output_type": "execute_result"
    }
   ],
   "source": [
    "s2.pop()"
   ]
  },
  {
   "cell_type": "code",
   "execution_count": 70,
   "id": "ed8a0912",
   "metadata": {},
   "outputs": [
    {
     "data": {
      "text/plain": [
       "[899, 900, 677, 'p', 455, 45]"
      ]
     },
     "execution_count": 70,
     "metadata": {},
     "output_type": "execute_result"
    }
   ],
   "source": [
    "s2"
   ]
  },
  {
   "cell_type": "code",
   "execution_count": 71,
   "id": "7c33e5b6",
   "metadata": {},
   "outputs": [
    {
     "data": {
      "text/plain": [
       "45"
      ]
     },
     "execution_count": 71,
     "metadata": {},
     "output_type": "execute_result"
    }
   ],
   "source": [
    "s2.pop()"
   ]
  },
  {
   "cell_type": "code",
   "execution_count": 72,
   "id": "8cadcb8e",
   "metadata": {},
   "outputs": [
    {
     "data": {
      "text/plain": [
       "[899, 900, 677, 'p', 455]"
      ]
     },
     "execution_count": 72,
     "metadata": {},
     "output_type": "execute_result"
    }
   ],
   "source": [
    "s2"
   ]
  },
  {
   "cell_type": "code",
   "execution_count": 73,
   "id": "e5b534d4",
   "metadata": {},
   "outputs": [],
   "source": [
    "s3={67,78,23,45,90,12,89,23}"
   ]
  },
  {
   "cell_type": "code",
   "execution_count": 74,
   "id": "f3a7fbb1",
   "metadata": {},
   "outputs": [
    {
     "ename": "AttributeError",
     "evalue": "'list' object has no attribute 'isdisjpoint'",
     "output_type": "error",
     "traceback": [
      "\u001b[1;31m---------------------------------------------------------------------------\u001b[0m",
      "\u001b[1;31mAttributeError\u001b[0m                            Traceback (most recent call last)",
      "Input \u001b[1;32mIn [74]\u001b[0m, in \u001b[0;36m<cell line: 1>\u001b[1;34m()\u001b[0m\n\u001b[1;32m----> 1\u001b[0m \u001b[43ms2\u001b[49m\u001b[38;5;241;43m.\u001b[39;49m\u001b[43misdisjpoint\u001b[49m(s3)\n",
      "\u001b[1;31mAttributeError\u001b[0m: 'list' object has no attribute 'isdisjpoint'"
     ]
    }
   ],
   "source": [
    "s2.isdisjpoint(s3)"
   ]
  },
  {
   "cell_type": "code",
   "execution_count": 81,
   "id": "0c8cae38",
   "metadata": {},
   "outputs": [],
   "source": [
    "s2=set(s2)"
   ]
  },
  {
   "cell_type": "code",
   "execution_count": 82,
   "id": "1fa050a0",
   "metadata": {},
   "outputs": [
    {
     "data": {
      "text/plain": [
       "{677, 899, 900, 'p'}"
      ]
     },
     "execution_count": 82,
     "metadata": {},
     "output_type": "execute_result"
    }
   ],
   "source": [
    "s2"
   ]
  },
  {
   "cell_type": "code",
   "execution_count": 83,
   "id": "e5a9feb6",
   "metadata": {},
   "outputs": [
    {
     "data": {
      "text/plain": [
       "899"
      ]
     },
     "execution_count": 83,
     "metadata": {},
     "output_type": "execute_result"
    }
   ],
   "source": [
    "s2.pop()"
   ]
  },
  {
   "cell_type": "code",
   "execution_count": 87,
   "id": "f797b507",
   "metadata": {},
   "outputs": [
    {
     "data": {
      "text/plain": [
       "True"
      ]
     },
     "execution_count": 87,
     "metadata": {},
     "output_type": "execute_result"
    }
   ],
   "source": [
    "s2.isdisjoint(s3)"
   ]
  },
  {
   "cell_type": "code",
   "execution_count": 89,
   "id": "74f85264",
   "metadata": {},
   "outputs": [
    {
     "data": {
      "text/plain": [
       "set()"
      ]
     },
     "execution_count": 89,
     "metadata": {},
     "output_type": "execute_result"
    }
   ],
   "source": [
    "s2.intersection(s3)"
   ]
  },
  {
   "cell_type": "code",
   "execution_count": null,
   "id": "d70e8a5b",
   "metadata": {},
   "outputs": [],
   "source": []
  }
 ],
 "metadata": {
  "kernelspec": {
   "display_name": "Python 3 (ipykernel)",
   "language": "python",
   "name": "python3"
  },
  "language_info": {
   "codemirror_mode": {
    "name": "ipython",
    "version": 3
   },
   "file_extension": ".py",
   "mimetype": "text/x-python",
   "name": "python",
   "nbconvert_exporter": "python",
   "pygments_lexer": "ipython3",
   "version": "3.10.5"
  }
 },
 "nbformat": 4,
 "nbformat_minor": 5
}
